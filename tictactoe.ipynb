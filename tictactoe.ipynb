{
  "nbformat": 4,
  "nbformat_minor": 0,
  "metadata": {
    "colab": {
      "name": "tictactoe.ipynb",
      "provenance": [],
      "collapsed_sections": [],
      "authorship_tag": "ABX9TyPRVyDjC3g+4Yc7toG9Fkpj",
      "include_colab_link": true
    },
    "kernelspec": {
      "name": "python3",
      "display_name": "Python 3"
    },
    "language_info": {
      "name": "python"
    }
  },
  "cells": [
    {
      "cell_type": "markdown",
      "metadata": {
        "id": "view-in-github",
        "colab_type": "text"
      },
      "source": [
        "<a href=\"https://colab.research.google.com/github/Rahulk84339/tic-tac-toe/blob/main/tictactoe.ipynb\" target=\"_parent\"><img src=\"https://colab.research.google.com/assets/colab-badge.svg\" alt=\"Open In Colab\"/></a>"
      ]
    },
    {
      "cell_type": "code",
      "metadata": {
        "colab": {
          "base_uri": "https://localhost:8080/"
        },
        "id": "xzalCjyaOGf3",
        "outputId": "19da59de-5528-4b73-bce4-d9612a23328e"
      },
      "source": [
        "!pip install pyttt\n"
      ],
      "execution_count": 2,
      "outputs": [
        {
          "output_type": "stream",
          "text": [
            "Collecting pyttt\n",
            "  Downloading https://files.pythonhosted.org/packages/95/64/fc73e1339fb2faee50b680e3f55884cdcee93666cd24418123521002a6d1/pyttt-0.5.4-py3-none-any.whl\n",
            "Installing collected packages: pyttt\n",
            "Successfully installed pyttt-0.5.4\n"
          ],
          "name": "stdout"
        }
      ]
    },
    {
      "cell_type": "code",
      "metadata": {
        "colab": {
          "base_uri": "https://localhost:8080/"
        },
        "id": "qIZPpYfbO_X0",
        "outputId": "01f5ee5b-9919-4516-b433-5fc6d621869a"
      },
      "source": [
        "import ttt"
      ],
      "execution_count": null,
      "outputs": [
        {
          "output_type": "stream",
          "text": [
            "Welcome to T-i-c T-a-c T-o-e \n",
            "\n",
            "This is a multi player game\n",
            "\n",
            "Enter 1-Play 2-Quit : 1\n",
            "\n",
            "Enter Name for user - 1 : rahul\n",
            "\n",
            "Enter Name for user - 2 : shubh\n",
            "---------------------------\n",
            "rahul represent's : O\n",
            "\n",
            "shubh represent's : X\n",
            "---------------------------\n",
            "\n",
            "Please remember the following representation\n",
            "\n",
            "Representing T-i-c T-a-c T-o-e Matrix \n",
            "\n",
            "-------------------\n",
            "|  1  |  2  |  3  |\n",
            "-------------------\n",
            "|  4  |  5  |  6  |\n",
            "-------------------\n",
            "|  7  |  8  |  9  |\n",
            "-------------------\n",
            "\n",
            "You have 9 choice's [1, 2, 3, 4, 5, 6, 7, 8, 9]\n",
            "\n",
            "rahul please choose a number to place : O\n",
            "\n",
            "Enter the number : 5\n",
            "-------------------\n",
            "|     |     |     |\n",
            "-------------------\n",
            "|     |  O  |     |\n",
            "-------------------\n",
            "|     |     |     |\n",
            "-------------------\n",
            "You have 8 choice's [1, 2, 3, 4, 6, 7, 8, 9]\n",
            "\n",
            "shubh please choose a number to place : X\n",
            "\n",
            "Enter the number : 1\n",
            "-------------------\n",
            "|  X  |     |     |\n",
            "-------------------\n",
            "|     |  O  |     |\n",
            "-------------------\n",
            "|     |     |     |\n",
            "-------------------\n",
            "You have 7 choice's [2, 3, 4, 6, 7, 8, 9]\n",
            "\n",
            "rahul please choose a number to place : O\n",
            "\n",
            "Enter the number : 3\n",
            "-------------------\n",
            "|  X  |     |  O  |\n",
            "-------------------\n",
            "|     |  O  |     |\n",
            "-------------------\n",
            "|     |     |     |\n",
            "-------------------\n",
            "You have 6 choice's [2, 4, 6, 7, 8, 9]\n",
            "\n",
            "shubh please choose a number to place : X\n",
            "\n",
            "Enter the number : 2\n",
            "-------------------\n",
            "|  X  |  X  |  O  |\n",
            "-------------------\n",
            "|     |  O  |     |\n",
            "-------------------\n",
            "|     |     |     |\n",
            "-------------------\n",
            "You have 5 choice's [4, 6, 7, 8, 9]\n",
            "\n",
            "rahul please choose a number to place : O\n",
            "\n",
            "Enter the number : 7\n",
            "-------------------\n",
            "|  X  |  X  |  O  |\n",
            "-------------------\n",
            "|     |  O  |     |\n",
            "-------------------\n",
            "|  O  |     |     |\n",
            "-------------------\n",
            "-------------------\n",
            "|  X  |  X  |  O  |\n",
            "-------------------\n",
            "|     |  O  |     |\n",
            "-------------------\n",
            "|  O  |     |     |\n",
            "-------------------\n",
            "\n",
            "Winner : rahul with the symbol : O\n",
            "\n"
          ],
          "name": "stdout"
        }
      ]
    },
    {
      "cell_type": "code",
      "metadata": {
        "id": "fXdyC57-OrEi"
      },
      "source": [
        ""
      ],
      "execution_count": null,
      "outputs": []
    }
  ]
}